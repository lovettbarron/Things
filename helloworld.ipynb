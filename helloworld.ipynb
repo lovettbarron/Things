{
 "cells": [
  {
   "cell_type": "code",
   "execution_count": 1,
   "id": "muslim-fiber",
   "metadata": {},
   "outputs": [],
   "source": [
    "from solid import *\n",
    "from solid.utils import *\n",
    "import viewscad"
   ]
  },
  {
   "cell_type": "code",
   "execution_count": 2,
   "id": "sweet-metabolism",
   "metadata": {},
   "outputs": [],
   "source": [
    "r=viewscad.Renderer()"
   ]
  },
  {
   "cell_type": "code",
   "execution_count": 6,
   "id": "roman-proposition",
   "metadata": {},
   "outputs": [
    {
     "name": "stdout",
     "output_type": "stream",
     "text": [
      "\n",
      "\n",
      "difference() {\n",
      "\tcylinder(h = 1, r = 5);\n",
      "\tcylinder(h = 1, r = 3);\n",
      "}\n"
     ]
    }
   ],
   "source": [
    "d=difference()(\n",
    "    cylinder(r=5,h=1),cylinder(r=3,h=1)\n",
    "        \n",
    ")\n",
    "print(scad_render(d))"
   ]
  },
  {
   "cell_type": "code",
   "execution_count": 7,
   "id": "facial-trout",
   "metadata": {},
   "outputs": [
    {
     "data": {
      "application/vnd.jupyter.widget-view+json": {
       "model_id": "af19e6a13440402fb7450f769ec49ae6",
       "version_major": 2,
       "version_minor": 0
      },
      "text/plain": [
       "VBox(children=(HTML(value=''), Renderer(background='#cccc88', background_opacity=0.0, camera=PerspectiveCamera…"
      ]
     },
     "metadata": {},
     "output_type": "display_data"
    }
   ],
   "source": [
    "r.render(d)"
   ]
  },
  {
   "cell_type": "code",
   "execution_count": null,
   "id": "ruled-princess",
   "metadata": {},
   "outputs": [],
   "source": []
  }
 ],
 "metadata": {
  "kernelspec": {
   "display_name": "Python 3",
   "language": "python",
   "name": "python3"
  },
  "language_info": {
   "codemirror_mode": {
    "name": "ipython",
    "version": 3
   },
   "file_extension": ".py",
   "mimetype": "text/x-python",
   "name": "python",
   "nbconvert_exporter": "python",
   "pygments_lexer": "ipython3",
   "version": "3.9.1"
  }
 },
 "nbformat": 4,
 "nbformat_minor": 5
}
